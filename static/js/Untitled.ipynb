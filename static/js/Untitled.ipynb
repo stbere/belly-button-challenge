{
 "cells": [
  {
   "cell_type": "code",
   "execution_count": null,
   "id": "ca8d6027",
   "metadata": {},
   "outputs": [],
   "source": [
    "var data;\n",
    "\n",
    "// calling in data\n",
    "\n",
    "d3.json(\"https://2u-data-curriculum-team.s3.amazonaws.com/dataviz-classroom/v1.1/14-Interactive-Web-Visualizations/02-Homework/samples.json\").then((resp) => {\n",
    "    console.log(resp)\n",
    "    data = resp\n",
    "    let dropDown = d3.select(\"#selDataset\")\n",
    "    resp.names.forEach((name) => {\n",
    "        dropDown.append(\"option\").text(name)\n",
    "    })\n",
    "    buildChart(resp.names[0])\n",
    "})"
   ]
  },
  {
   "cell_type": "code",
   "execution_count": null,
   "id": "e97b0b99",
   "metadata": {},
   "outputs": [],
   "source": [
    "// options to change the function\n",
    "\n",
    "function optionChanged(selectID) {\n",
    "    buildChart(selectedID)\n",
    "}"
   ]
  },
  {
   "cell_type": "code",
   "execution_count": null,
   "id": "4150557f",
   "metadata": {},
   "outputs": [],
   "source": [
    "// Building bar chart\n",
    "\n",
    "let buildChart = (selectedID) => {\n",
    "    d3.json(\"https://2u-data-curriculum-team.s3.amazonaws.com/dataviz-classroom/v1.1/14-Interactive-Web-Visualizations/02-Homework/samples.json\").then((resp) => {\n",
    "        console.log(resp)\n",
    "        data = resp"
   ]
  },
  {
   "cell_type": "code",
   "execution_count": null,
   "id": "0afd71da",
   "metadata": {},
   "outputs": [],
   "source": [
    "// drop-down selection\n",
    "\n",
    "        let dropDown = d3.select(\"#selDataset\")\n",
    "        resp.names.forEach((name) => {\n",
    "            dropDown.append(\"option\").text(name)\n",
    "        })\n",
    "        if (!data) {\n",
    "            return\n",
    "        }"
   ]
  },
  {
   "cell_type": "code",
   "execution_count": null,
   "id": "f470d622",
   "metadata": {},
   "outputs": [],
   "source": []
  }
 ],
 "metadata": {
  "kernelspec": {
   "display_name": "Python 3 (ipykernel)",
   "language": "python",
   "name": "python3"
  },
  "language_info": {
   "codemirror_mode": {
    "name": "ipython",
    "version": 3
   },
   "file_extension": ".py",
   "mimetype": "text/x-python",
   "name": "python",
   "nbconvert_exporter": "python",
   "pygments_lexer": "ipython3",
   "version": "3.9.13"
  }
 },
 "nbformat": 4,
 "nbformat_minor": 5
}
